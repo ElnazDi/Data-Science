{
  "nbformat": 4,
  "nbformat_minor": 0,
  "metadata": {
    "colab": {
      "name": "Untitled6.ipynb",
      "provenance": [],
      "include_colab_link": true
    },
    "kernelspec": {
      "name": "python3",
      "display_name": "Python 3"
    }
  },
  "cells": [
    {
      "cell_type": "markdown",
      "metadata": {
        "id": "view-in-github",
        "colab_type": "text"
      },
      "source": [
        "<a href=\"https://colab.research.google.com/github/ElnazDi/colab/blob/master/Untitled6.ipynb\" target=\"_parent\"><img src=\"https://colab.research.google.com/assets/colab-badge.svg\" alt=\"Open In Colab\"/></a>"
      ]
    },
    {
      "cell_type": "code",
      "metadata": {
        "id": "fksT524tSWy0",
        "colab_type": "code",
        "colab": {}
      },
      "source": [
        "m = folium.Map(location=[39.9526,-75.1652], zoom_start=11)\n",
        "HeatMap(data=releases[['LATITUDE', 'LONGITUDE']], radius=15).add_to(m)\n",
        "for idx, row in stations.iterrows():\n",
        "    Marker([row['LATITUDE'], row['LONGITUDE']]).add_to(m)\n",
        "    \n",
        "# Plot each polygon on the map\n",
        "GeoJson(two_mile_buffer.to_crs(epsg=4326)).add_to(m)\n",
        "\n",
        "# Show the map\n",
        "embed_map(m, 'm1.html')"
      ],
      "execution_count": 0,
      "outputs": []
    }
  ]
}