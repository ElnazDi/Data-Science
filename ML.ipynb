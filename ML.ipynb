{
  "nbformat": 4,
  "nbformat_minor": 0,
  "metadata": {
    "colab": {
      "name": "Untitled4.ipynb",
      "provenance": [],
      "include_colab_link": true
    },
    "kernelspec": {
      "name": "python3",
      "display_name": "Python 3"
    }
  },
  "cells": [
    {
      "cell_type": "markdown",
      "metadata": {
        "id": "view-in-github",
        "colab_type": "text"
      },
      "source": [
        "<a href=\"https://colab.research.google.com/github/ElnazDi/colab/blob/master/ML.ipynb\" target=\"_parent\"><img src=\"https://colab.research.google.com/assets/colab-badge.svg\" alt=\"Open In Colab\"/></a>"
      ]
    },
    {
      "cell_type": "code",
      "metadata": {
        "id": "tmwP-gUARGEB",
        "colab_type": "code",
        "colab": {}
      },
      "source": [
        "import numpy as np\n",
        "import pandas as pd\n",
        "from sklearn.model_selection import train_test_split\n",
        "from tensorflow.python import keras\n",
        "from tensorflow.python.keras.models import Sequential\n",
        "from tensorflow.python.keras.layers import Dense, Flatten, Conv2D, Dropout\n",
        "\n",
        "img_rows, img_cols = 28, 28\n",
        "num_classes = 10\n",
        "\n",
        "def data_prep(raw):\n",
        "    out_y = keras.utils.to_categorical(raw.label, num_classes)\n",
        "\n",
        "    num_images = raw.shape[0]\n",
        "    x_as_array = raw.values[:,1:]\n",
        "    x_shaped_array = x_as_array.reshape(num_images, img_rows, img_cols, 1)\n",
        "     out_x = x_shaped_array / 255\n",
        "    return out_x, out_y\n",
        "\n",
        "train_size = 30000\n",
        "train_file = \"../input/digit-recognizer/train.csv\"\n",
        "raw_data = pd.read_csv(train_file)\n",
        "\n",
        "x, y = data_prep(raw_data)\n",
        "\n",
        "model = Sequential()\n",
        "model.add(Conv2D(30, kernel_size=(3, 3),\n",
        "                 strides=2,\n",
        "                 activation='relu',\n",
        "                 input_shape=(img_rows, img_cols, 1)))\n",
        "model.add(Dropout(0.5))\n",
        "model.add(Conv2D(30, kernel_size=(3, 3), strides=2, activation='relu'))\n",
        "model.add(Dropout(0.5))\n",
        "model.add(Flatten())\n",
        "model.add(Dense(128, activation='relu'))\n",
        "model.add(Dense(num_classes, activation='softmax'))\n",
        "\n",
        "model.compile(loss=keras.losses.categorical_crossentropy,\n",
        "              optimizer='adam',\n",
        "              metrics=['accuracy'])\n",
        "model.fit(x, y,\n",
        "          batch_size=128,\n",
        "          epochs=2,\n",
        "          validation_split = 0.2)"
      ],
      "execution_count": 0,
      "outputs": []
    }
  ]
}