{
  "nbformat": 4,
  "nbformat_minor": 0,
  "metadata": {
    "colab": {
      "name": "Introduction_to_ML_Data_Leakage.ipynb",
      "version": "0.3.2",
      "provenance": [],
      "include_colab_link": true
    },
    "kernelspec": {
      "name": "python3",
      "display_name": "Python 3"
    }
  },
  "cells": [
    {
      "cell_type": "markdown",
      "metadata": {
        "id": "view-in-github",
        "colab_type": "text"
      },
      "source": [
        "<a href=\"https://colab.research.google.com/github/ElnazDi/colab/blob/master/Introduction_to_ML_Data_Leakage.ipynb\" target=\"_parent\"><img src=\"https://colab.research.google.com/assets/colab-badge.svg\" alt=\"Open In Colab\"/></a>"
      ]
    },
    {
      "cell_type": "markdown",
      "metadata": {
        "id": "BV8c1UI1mIN3",
        "colab_type": "text"
      },
      "source": [
        "\n",
        "In this tutorial, you will learn what data leakage is and how to prevent it. If you don't know how to prevent it, **leakage** will come up frequently, and it will ruin your models in subtle and dangerous ways. So, this is **one of the most important concept**s for practicing data scientists.\n",
        "\n",
        "\n",
        "**Data leakage (or leakage):**\n",
        "\n",
        "happens when your **training data** contains information about the target, **but similar data** will not be available when the model is used for prediction. \n",
        "\n",
        "This leads to **high performance on the training set** (and possibly even the validation data), **but** the model will perform **poorly in production**.\n",
        "\n",
        "In other words, leakage causes a model to look accurate until you start making decisions with the model, and then the model becomes very inaccurate.\n",
        "\n",
        "\n",
        "**There are two main types of leakaget:**\n",
        "\n",
        "1. **target leakage**\n",
        "\n",
        "2. **train-test contamination.** \n",
        "\n",
        "**Target leakage**\n",
        "\n",
        "Target leakage occurs when your predictors predict(y_val, prediction) include data that will not be available at the time you make predictions. \n",
        "\n",
        "It is important to think about target leakage in terms of the **timing or chronological order** that data becomes available, not merely whether a feature helps make good predictions.\n",
        "\n",
        "An example will be helpful. Imagine you want to predict who will get sick with pneumonia. The top few rows of your raw data look like this:\n",
        "\n",
        "got_pneumonia\tage\tweight\tmale\ttook_antibiotic_medicine\t...\n",
        "\n",
        "False-----------------65---\t100----\tFalse\t---------------------False\t...\n",
        "\n",
        "False----------------\t72--\t130----\tTrue----------------------\tFalse\t...\n",
        "\n",
        "True-----------------\t58--\t100----\tFalse---------------------\tTrue\t...\n",
        "\n",
        "People take antibiotic medicines after getting pneumonia in order to recover. The raw data shows a strong relationship between those columns, but took_antibiotic_medicine is frequently changed after the value for got_pneumonia is determined. **This is target leakage.**\n",
        "\n",
        "The model would see that anyone who has a value of False for took_antibiotic_medicine didn't have pneumonia. Since validation data comes from the same source as training data, the pattern will repeat itself in validation, and the model will have great validation (or cross-validation) scores.\n",
        "\n",
        "But the model will be very inaccurate when subsequently deployed in the real world, because even patients who will get pneumonia won't have received antibiotics yet when we need to make predictions about their future health.\n",
        "\n",
        "**To prevent this type of data leakage, any variable updated (or created) after the target value is realized should be excluded.**\n",
        "\n",
        "![alt text](https://i.imgur.com/y7hfTYe.png)\n",
        "\n",
        "**Train-Test Contamination**\n",
        "\n",
        "A different type of leak occurs when you aren't careful to distinguish training data from validation data.\n",
        "\n",
        "Recall that validation is meant to be a measure of how the model does on data that it hasn't considered before. You can corrupt this process in subtle ways if the validation data affects the preprocessing behavior. This is sometimes called train-test contamination.\n",
        "\n",
        "For example, imagine you run preprocessing (like fitting an imputer for missing values) before calling train_test_split(). The end result? Your model may get good validation scores, giving you great confidence in it, but perform poorly when you deploy it to make decisions.\n",
        "\n",
        "After all, you incorporated data from the validation or test data into how you make predictions, so the may do well on that particular data even if it can't generalize to new data. This problem becomes even more subtle (and more dangerous) when you do more complex feature engineering.\n",
        "\n",
        "If your validation is based on a simple train-test split, exclude the validation data from any type of fitting, including the fitting of preprocessing steps. This is easier if you use scikit-learn pipelines. When using cross-validation, it's even more critical that you do your preprocessing inside the pipeline!"
      ]
    },
    {
      "cell_type": "markdown",
      "metadata": {
        "id": "xK9j2W-kmXO2",
        "colab_type": "text"
      },
      "source": [
        "**Conclusion:**\n",
        "\n",
        "Data leakage can be multi-million dollar mistake in many data science applications.\n",
        "\n",
        "Careful separation of **training and validation data** can prevent **train-test contamination**, and **pipelines** can help implement this separation. \n",
        "\n",
        "Likewise, a combination of **caution**, **common sense**, and **data exploratio**n can help identify **target leakage**."
      ]
    },
    {
      "cell_type": "code",
      "metadata": {
        "id": "Myvt3fpTjSef",
        "colab_type": "code",
        "colab": {}
      },
      "source": [
        ""
      ],
      "execution_count": 0,
      "outputs": []
    }
  ]
}