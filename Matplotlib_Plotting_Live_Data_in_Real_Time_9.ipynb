{
  "nbformat": 4,
  "nbformat_minor": 0,
  "metadata": {
    "colab": {
      "name": "Matplotlib_Plotting_Live_Data_in_Real-Time_9.ipynb",
      "version": "0.3.2",
      "provenance": [],
      "include_colab_link": true
    },
    "kernelspec": {
      "name": "python3",
      "display_name": "Python 3"
    }
  },
  "cells": [
    {
      "cell_type": "markdown",
      "metadata": {
        "id": "view-in-github",
        "colab_type": "text"
      },
      "source": [
        "<a href=\"https://colab.research.google.com/github/ElnazDi/colab/blob/master/Matplotlib_Plotting_Live_Data_in_Real_Time_9.ipynb\" target=\"_parent\"><img src=\"https://colab.research.google.com/assets/colab-badge.svg\" alt=\"Open In Colab\"/></a>"
      ]
    },
    {
      "cell_type": "code",
      "metadata": {
        "id": "UFCl5Fe6kOc7",
        "colab_type": "code",
        "colab": {
          "base_uri": "https://localhost:8080/",
          "height": 289
        },
        "outputId": "4cfb1c92-45f2-496d-e8db-dd95262aa8b7"
      },
      "source": [
        "import matplotlib.pyplot as plt\n",
        "\n",
        "plt.style.use('fivethirtyeight')\n",
        "\n",
        "x_vals = [0, 1, 2, 3, 4, 5]\n",
        "y_vals = [0, 1, 3, 2, 3, 5]\n",
        "\n",
        "plt.plot(x_vals, y_vals)\n",
        "\n",
        "\n",
        "plt.tight_layout()\n",
        "plt.show()"
      ],
      "execution_count": 16,
      "outputs": [
        {
          "output_type": "display_data",
          "data": {
            "image/png": "[encoded data removed]",
            "text/plain": [
              "<Figure size 432x288 with 1 Axes>"
            ]
          },
          "metadata": {
            "tags": []
          }
        }
      ]
    },
    {
      "cell_type": "code",
      "metadata": {
        "id": "8pcbnoWzk3yC",
        "colab_type": "code",
        "colab": {
          "base_uri": "https://localhost:8080/",
          "height": 35
        },
        "outputId": "87a23db2-82e2-4cae-ef5f-d5508266b222"
      },
      "source": [
        "#This will work only in PyCharm ---- Animation\n",
        "\n",
        "from matplotlib.animation import FuncAnimation\n",
        "import random\n",
        "from itertools import count\n",
        "import pandas as pd\n",
        "import matplotlib.pyplot as plt\n",
        "\n",
        "x_vals = []\n",
        "y_vals = []\n",
        "\n",
        "index = count()\n",
        "\n",
        "\n",
        "def animate(i):\n",
        "    x_vals.append(next(index))\n",
        "    y_vals.append(random.randint(0, 5))\n",
        "\n",
        "    plt.cla()  # Show all lines in one single color not different color\n",
        "    plt.plot(x_vals, y_vals)\n",
        "\n",
        "\n",
        "ani = FuncAnimation(plt.gcf(), animate, interval=1000)  # Our animation will work per second  gcf = get current format\n",
        "\n",
        "plt.tight_layout()\n",
        "plt.show()"
      ],
      "execution_count": 18,
      "outputs": [
        {
          "output_type": "display_data",
          "data": {
            "text/plain": [
              "<Figure size 432x288 with 0 Axes>"
            ]
          },
          "metadata": {
            "tags": []
          }
        }
      ]
    },
    {
      "cell_type": "code",
      "metadata": {
        "id": "nWQK_MMImwU5",
        "colab_type": "code",
        "colab": {
          "base_uri": "https://localhost:8080/",
          "height": 389
        },
        "outputId": "1473c9f8-0e40-4e52-87a9-b9e75a6b11a3"
      },
      "source": [
        "# This code will make our data.csv file !\n",
        "\n",
        "\n",
        "import csv\n",
        "import random\n",
        "import time\n",
        "\n",
        "x_value = 0\n",
        "total_1 = 1000\n",
        "total_2 = 1000\n",
        "\n",
        "fieldnames = [\"x_value\", \"total_1\", \"total_2\"]\n",
        "\n",
        "\n",
        "with open('data.csv', 'w') as csv_file:\n",
        "    csv_writer = csv.DictWriter(csv_file, fieldnames=fieldnames)\n",
        "    csv_writer.writeheader()\n",
        "\n",
        "while True:\n",
        "\n",
        "    with open('data.csv', 'a') as csv_file:\n",
        "        csv_writer = csv.DictWriter(csv_file, fieldnames=fieldnames)\n",
        "\n",
        "        info = {\n",
        "            \"x_value\": x_value,\n",
        "            \"total_1\": total_1,\n",
        "            \"total_2\": total_2\n",
        "        }\n",
        "\n",
        "        csv_writer.writerow(info)\n",
        "        print(x_value, total_1, total_2)\n",
        "\n",
        "        x_value += 1\n",
        "        total_1 = total_1 + random.randint(-6, 8)\n",
        "        total_2 = total_2 + random.randint(-5, 6)\n",
        "\n",
        "    time.sleep(1)"
      ],
      "execution_count": 21,
      "outputs": [
        {
          "output_type": "stream",
          "text": [
            "0 1000 1000\n",
            "1 1006 995\n",
            "2 1013 991\n",
            "3 1012 994\n",
            "4 1012 996\n",
            "5 1020 996\n",
            "6 1019 991\n",
            "7 1016 989\n",
            "8 1020 987\n",
            "9 1026 982\n"
          ],
          "name": "stdout"
        },
        {
          "output_type": "error",
          "ename": "KeyboardInterrupt",
          "evalue": "ignored",
          "traceback": [
            "\u001b[0;31m---------------------------------------------------------------------------\u001b[0m",
            "\u001b[0;31mKeyboardInterrupt\u001b[0m                         Traceback (most recent call last)",
            "\u001b[0;32m<ipython-input-21-a2e87cf5d601>\u001b[0m in \u001b[0;36m<module>\u001b[0;34m()\u001b[0m\n\u001b[1;32m     34\u001b[0m         \u001b[0mtotal_2\u001b[0m \u001b[0;34m=\u001b[0m \u001b[0mtotal_2\u001b[0m \u001b[0;34m+\u001b[0m \u001b[0mrandom\u001b[0m\u001b[0;34m.\u001b[0m\u001b[0mrandint\u001b[0m\u001b[0;34m(\u001b[0m\u001b[0;34m-\u001b[0m\u001b[0;36m5\u001b[0m\u001b[0;34m,\u001b[0m \u001b[0;36m6\u001b[0m\u001b[0;34m)\u001b[0m\u001b[0;34m\u001b[0m\u001b[0;34m\u001b[0m\u001b[0m\n\u001b[1;32m     35\u001b[0m \u001b[0;34m\u001b[0m\u001b[0m\n\u001b[0;32m---> 36\u001b[0;31m     \u001b[0mtime\u001b[0m\u001b[0;34m.\u001b[0m\u001b[0msleep\u001b[0m\u001b[0;34m(\u001b[0m\u001b[0;36m1\u001b[0m\u001b[0;34m)\u001b[0m\u001b[0;34m\u001b[0m\u001b[0;34m\u001b[0m\u001b[0m\n\u001b[0m",
            "\u001b[0;31mKeyboardInterrupt\u001b[0m: "
          ]
        }
      ]
    },
    {
      "cell_type": "code",
      "metadata": {
        "id": "H78dFjfFnTLw",
        "colab_type": "code",
        "colab": {
          "base_uri": "https://localhost:8080/",
          "height": 35
        },
        "outputId": "5df03c17-c05b-4c33-d5d1-65ca61c62282"
      },
      "source": [
        "# This code will use above code to grab csv file in real time\n",
        "\n",
        "import random\n",
        "from itertools import count\n",
        "import pandas as pd\n",
        "import matplotlib.pyplot as plt\n",
        "from matplotlib.animation import FuncAnimation\n",
        "\n",
        "plt.style.use('fivethirtyeight')\n",
        "\n",
        "x_vals = []\n",
        "y_vals = []\n",
        "\n",
        "index = count()\n",
        "\n",
        "\n",
        "def animate(i):\n",
        "    data = pd.read_csv('data.csv')\n",
        "    x = data['x_value']\n",
        "    y1 = data['total_1']\n",
        "    y2 = data['total_2']\n",
        "\n",
        "    plt.cla()\n",
        "\n",
        "    plt.plot(x, y1, label='Channel 1')\n",
        "    plt.plot(x, y2, label='Channel 2')\n",
        "\n",
        "    plt.legend(loc='upper left')\n",
        "    plt.tight_layout()\n",
        "\n",
        "\n",
        "ani = FuncAnimation(plt.gcf(), animate, interval=1000)\n",
        "\n",
        "plt.tight_layout()\n",
        "plt.show()"
      ],
      "execution_count": 22,
      "outputs": [
        {
          "output_type": "display_data",
          "data": {
            "text/plain": [
              "<Figure size 432x288 with 0 Axes>"
            ]
          },
          "metadata": {
            "tags": []
          }
        }
      ]
    }
  ]
}