{
  "nbformat": 4,
  "nbformat_minor": 0,
  "metadata": {
    "colab": {
      "name": "Data_Visualization_NC2C_6.ipynb",
      "version": "0.3.2",
      "provenance": [],
      "include_colab_link": true
    },
    "kernelspec": {
      "name": "python3",
      "display_name": "Python 3"
    }
  },
  "cells": [
    {
      "cell_type": "markdown",
      "metadata": {
        "id": "view-in-github",
        "colab_type": "text"
      },
      "source": [
        "<a href=\"https://colab.research.google.com/github/ElnazDi/colab/blob/master/Data_Visualization_NC2C_6.ipynb\" target=\"_parent\"><img src=\"https://colab.research.google.com/assets/colab-badge.svg\" alt=\"Open In Colab\"/></a>"
      ]
    },
    {
      "cell_type": "markdown",
      "metadata": {
        "id": "fM88kz1Gtjup",
        "colab_type": "text"
      },
      "source": [
        "![Summerization](https://imgur.com/2VmgDnF.png)"
      ]
    },
    {
      "cell_type": "markdown",
      "metadata": {
        "id": "OnuGk21ZuEXk",
        "colab_type": "text"
      },
      "source": [
        "Since it's not always easy to decide how to best tell the story behind your data, we've broken the chart types into **three broad categories** to help with this.\n",
        "\n",
        "**Trends** - A trend is defined as a pattern of change.\n",
        "\n",
        "`sns.lineplot` - Line charts are best to show trends over a period of time, and multiple lines can be used to show trends in more than one group.\n",
        "\n",
        "\n",
        "\n",
        "**Relationship** - There are many different chart types that you can use to understand relationships between variables in your data.\n",
        "\n",
        "`sns.barplot` - Bar charts are useful for comparing quantities corresponding to different groups.\n",
        "\n",
        "`sns.heatmap` - Heatmaps can be used to find color-coded patterns in tables of numbers.\n",
        "\n",
        "`sns.scatterplot` - Scatter plots show the relationship between two continuous variables; if color-coded, we can also show the relationship with a third categorical variable.\n",
        "\n",
        "`sns.regplot `- Including a regression line in the scatter plot makes it easier to see any linear relationship between two variables.\n",
        "\n",
        "`sns.lmplot `- This command is useful for drawing multiple regression lines, if the scatter plot contains multiple, color-coded groups.\n",
        "\n",
        "`sns.swarmplot` - Categorical scatter plots show the relationship between a continuous variable and a categorical variable.\n",
        "\n",
        "\n",
        "**Distribution** - We visualize distributions to show the possible values that we can expect to see in a variable, along with how likely they are.\n",
        "\n",
        "`sns.distplot` - Histograms show the distribution of a single numerical variable.\n",
        "\n",
        "`sns.kdeplot `- KDE plots (or 2D KDE plots) show an estimated, smooth distribution of a single numerical variable (or two numerical variables).\n",
        "\n",
        "`sns.jointplot` - This command is useful for simultaneously displaying a 2D KDE plot with the corresponding KDE plots for each individual variable."
      ]
    },
    {
      "cell_type": "markdown",
      "metadata": {
        "id": "n-_d0ylBvvJ6",
        "colab_type": "text"
      },
      "source": [
        "**Seaborn has five different themes:**\n",
        "\n",
        "(1)\"darkgrid\",\n",
        "\n",
        "(2)\"whitegrid\",\n",
        "\n",
        "(3)\"dark\",\n",
        "\n",
        "(4)\"white\",\n",
        "\n",
        "(5)\"ticks\",\n",
        "\n"
      ]
    },
    {
      "cell_type": "code",
      "metadata": {
        "id": "Qhbv4t_ktZEn",
        "colab_type": "code",
        "colab": {}
      },
      "source": [
        "#Use this line of code\n",
        "\n",
        "sns.set_style(\"dark\")\n"
      ],
      "execution_count": 0,
      "outputs": []
    },
    {
      "cell_type": "code",
      "metadata": {
        "id": "VrjxahE8w6Fu",
        "colab_type": "code",
        "colab": {
          "base_uri": "https://localhost:8080/",
          "height": 55
        },
        "outputId": "0469cadf-9f84-45a6-b466-59935d210d8d"
      },
      "source": [
        "# But I know some way more prophessional :\n",
        "\n",
        "from matplotlib import pyplot as plt\n",
        "print(plt.style.available)"
      ],
      "execution_count": 3,
      "outputs": [
        {
          "output_type": "stream",
          "text": [
            "['seaborn-dark-palette', 'seaborn-deep', 'Solarize_Light2', '_classic_test', 'ggplot', 'seaborn-darkgrid', 'seaborn', 'tableau-colorblind10', 'seaborn-white', 'seaborn-colorblind', 'seaborn-muted', 'seaborn-talk', 'fast', 'bmh', 'seaborn-whitegrid', 'seaborn-dark', 'seaborn-pastel', 'seaborn-notebook', 'seaborn-poster', 'seaborn-bright', 'dark_background', 'seaborn-paper', 'seaborn-ticks', 'grayscale', 'classic', 'fivethirtyeight']\n"
          ],
          "name": "stdout"
        }
      ]
    },
    {
      "cell_type": "code",
      "metadata": {
        "id": "K77UMaHPxTd9",
        "colab_type": "code",
        "colab": {}
      },
      "source": [
        "plt.style.use('ggplot')"
      ],
      "execution_count": 0,
      "outputs": []
    }
  ]
}